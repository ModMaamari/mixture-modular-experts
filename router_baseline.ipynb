{
 "cells": [
  {
   "cell_type": "code",
   "execution_count": 1,
   "id": "9594700d-8af9-472a-90c7-b4244ff6ee8c",
   "metadata": {},
   "outputs": [],
   "source": [
    "from sklearn.metrics import accuracy_score, precision_recall_fscore_support, confusion_matrix\n",
    "from sklearn.feature_extraction.text import TfidfVectorizer\n",
    "from sklearn.base import BaseEstimator, TransformerMixin\n",
    "from datasets import concatenate_datasets, load_dataset\n",
    "from sklearn.model_selection import train_test_split\n",
    "from sklearn.linear_model import LogisticRegression\n",
    "from transformers import AutoTokenizer\n",
    "from sklearn.pipeline import Pipeline\n",
    "import numpy as np\n",
    "import random\n",
    "import pickle"
   ]
  },
  {
   "cell_type": "code",
   "execution_count": 2,
   "id": "04328a38-c470-4d1f-baee-a93b287d472f",
   "metadata": {},
   "outputs": [],
   "source": [
    "# Load tokenizer\n",
    "tokenizer = AutoTokenizer.from_pretrained(\"En_De_Fr_Py_Tokenizer\")\n",
    "tokenizer.pad_token = tokenizer.eos_token"
   ]
  },
  {
   "cell_type": "code",
   "execution_count": 3,
   "id": "633b4205-3632-4218-8a4d-27cda1b62dee",
   "metadata": {},
   "outputs": [],
   "source": [
    "class InputIDsToString(BaseEstimator, TransformerMixin):\n",
    "    def fit(self, X, y=None):\n",
    "        return self\n",
    "    \n",
    "    def transform(self, X):\n",
    "        # Convert list of ids to NumPy array for efficient processing\n",
    "        return [' '.join(np.array(input_ids)[np.isin(input_ids, [1, 2], invert=True)].astype(str)) for input_ids in X]"
   ]
  },
  {
   "cell_type": "code",
   "execution_count": null,
   "id": "eb5cac66-03f3-45e3-9109-dff44b1892be",
   "metadata": {},
   "outputs": [],
   "source": [
    "%%time\n",
    "load_sample=False\n",
    "drop_language_feature = False\n",
    "\n",
    "max_position_embeddings = 1024\n",
    "code2lang = {0:'en', 1:'fr', 2:'de', 3:'py'}\n",
    "lang2code = {v:k for k,v in code2lang.items()}\n",
    "\n",
    "\n",
    "load_sample_prefix = '' if not load_sample else '_sample'\n",
    "with open(f'tokenized_datasets/tokenized_train_datasets_1kContext_sep4lang{load_sample_prefix}.pkl', 'rb') as file:\n",
    "    shuffle_seed = random.randint(1,999999)\n",
    "    np.random.seed(shuffle_seed)\n",
    "    tokenized_train_datasets = pickle.load(file)\n",
    "    # Shuffle\n",
    "    tokenized_train_datasets = {key: dataset.shuffle() for key, dataset in tokenized_train_datasets.items()}\n",
    "    if drop_language_feature:\n",
    "        tokenized_train_datasets = {key: dataset.remove_columns('language') for key, dataset in tokenized_train_datasets.items()}\n"
   ]
  },
  {
   "cell_type": "code",
   "execution_count": null,
   "id": "7c10b9ac-6d5f-4a85-b9c5-9bddb03a258a",
   "metadata": {},
   "outputs": [],
   "source": [
    "%%time\n",
    "# Concatenate all datasets into one\n",
    "all_datasets = concatenate_datasets([tokenized_train_datasets[i] for i in range(4)])\n",
    "\n",
    "# Extract input_ids and convert them to strings as they are token indices\n",
    "input_ids = all_datasets['input_ids']\n",
    "languages = all_datasets['language']\n",
    "\n",
    "# Split the dataset into training and testing sets\n",
    "X_train, X_test, y_train, y_test = train_test_split(input_ids, languages, test_size=0.2, random_state=42)\n"
   ]
  },
  {
   "cell_type": "code",
   "execution_count": 4,
   "id": "a3cd62fe-cf0e-4b1b-bf41-c0075e24f5b3",
   "metadata": {},
   "outputs": [],
   "source": [
    "load_sample=False\n",
    "drop_language_feature = False\n",
    "\n",
    "max_position_embeddings = 1024\n",
    "code2lang = {0:'en', 1:'fr', 2:'de', 3:'py'}\n",
    "lang2code = {v:k for k,v in code2lang.items()}\n",
    "\n",
    "load_sample_prefix = '' if not load_sample else '_sample'\n",
    "# Load the tokenized validation datasets\n",
    "with open(f'tokenized_datasets/tokenized_valid_datasets_1kContext_sep4lang{load_sample_prefix}.pkl', 'rb') as file:\n",
    "    tokenized_valid_datasets = pickle.load(file)\n",
    "    tokenized_valid_datasets = {key: dataset.shuffle() for key, dataset in tokenized_valid_datasets.items()}\n",
    "    if drop_language_feature:\n",
    "        tokenized_valid_datasets = {key: dataset.remove_columns('language') for key, dataset in tokenized_valid_datasets.items()}"
   ]
  },
  {
   "cell_type": "code",
   "execution_count": null,
   "id": "91a9ca91-c946-4b46-84f5-6b093329c323",
   "metadata": {},
   "outputs": [],
   "source": [
    "%%time\n",
    "# Concatenate all datasets into one\n",
    "eval_all_datasets = concatenate_datasets([tokenized_valid_datasets[i] for i in range(4)])\n",
    "\n",
    "# Extract input_ids and convert them to strings as they are token indices\n",
    "eval_input_ids = eval_all_datasets['input_ids']\n",
    "eval_languages = eval_all_datasets['language']"
   ]
  },
  {
   "cell_type": "code",
   "execution_count": 8,
   "id": "8dc5a6b9-6878-428a-bb60-23c5c17c3416",
   "metadata": {},
   "outputs": [],
   "source": [
    "# Create the pipeline components\n",
    "tfidf_vectorizer = TfidfVectorizer()\n",
    "classifier = LogisticRegression(loss='modified_huber', random_state=42)\n",
    "\n",
    "# Set up the pipeline\n",
    "pipeline = Pipeline([\n",
    "    ('input_to_string', InputIDsToString()),\n",
    "    ('tfidf', tfidf_vectorizer),\n",
    "    ('clf', classifier)\n",
    "])"
   ]
  },
  {
   "cell_type": "code",
   "execution_count": null,
   "id": "9a9ee574-5870-44d8-99e6-6741c4f8b2be",
   "metadata": {},
   "outputs": [],
   "source": [
    "# Train the pipeline\n",
    "pipeline.fit(X_train, y_train)"
   ]
  },
  {
   "cell_type": "code",
   "execution_count": 10,
   "id": "d0dbe5ed-c017-413c-92c1-e3213b5dc07f",
   "metadata": {},
   "outputs": [],
   "source": [
    "import pickle\n",
    "\n",
    "# Save the pipeline\n",
    "with open('language_router_pipeline.pkl', 'wb') as file:\n",
    "    pickle.dump(pipeline, file)"
   ]
  },
  {
   "cell_type": "code",
   "execution_count": null,
   "id": "e792eaa5-4092-411c-ae09-0e55b52865d6",
   "metadata": {},
   "outputs": [],
   "source": [
    "# Predictions\n",
    "y_pred = pipeline.predict(X_test)\n",
    "\n",
    "# Evaluation metrics\n",
    "accuracy = accuracy_score(y_test, y_pred)\n",
    "precision, recall, f1, _ = precision_recall_fscore_support(y_test, y_pred, average='weighted')\n",
    "conf_matrix = confusion_matrix(y_test, y_pred)\n",
    "\n",
    "print(f\"Accuracy: {accuracy}\")\n",
    "print(f\"Precision: {precision}\")\n",
    "print(f\"Recall: {recall}\")\n",
    "print(f\"F1 Score: {f1}\")\n",
    "print(\"Confusion Matrix:\")\n",
    "print(conf_matrix)\n"
   ]
  },
  {
   "cell_type": "markdown",
   "id": "ad0ad7f7-47db-4de6-a7c1-3fe14d242294",
   "metadata": {},
   "source": [
    "## Evaluate on validation set"
   ]
  },
  {
   "cell_type": "code",
   "execution_count": null,
   "id": "4479e659-88b8-4ee0-bbbf-23f98eb42043",
   "metadata": {},
   "outputs": [],
   "source": [
    "%%time\n",
    "# Use the classifier to predict the languages\n",
    "eval_y_pred = pipeline.predict(eval_input_ids)\n",
    "\n",
    "# Compute metrics\n",
    "accuracy = accuracy_score(eval_languages, eval_y_pred)\n",
    "precision, recall, f1, _ = precision_recall_fscore_support(eval_languages, eval_y_pred, average='weighted')\n",
    "conf_matrix = confusion_matrix(eval_languages, eval_y_pred)\n",
    "\n",
    "# Print results\n",
    "print(f\"Evaluation on validation dataset Results:\")\n",
    "print(f\"Accuracy: {accuracy}\")\n",
    "print(f\"Precision: {precision}\")\n",
    "print(f\"Recall: {recall}\")\n",
    "print(f\"F1 Score: {f1}\")\n",
    "print(\"Confusion Matrix:\")\n",
    "print(conf_matrix)\n"
   ]
  },
  {
   "cell_type": "code",
   "execution_count": 45,
   "id": "cd0a922d-9321-4f44-9cb9-765a6a5d51ef",
   "metadata": {},
   "outputs": [],
   "source": [
    "import matplotlib.pyplot as plt\n",
    "import seaborn as sns\n",
    "\n",
    "def plot_confusion_matrix(cm, class_names, title='Confusion Matrix', cmap=plt.cm.Blues):\n",
    "    \"\"\"\n",
    "    Plots a confusion matrix using seaborn's heatmap functionality. Normalizes the matrix and annotates cells with the normalized values.\n",
    "    :param cm: Confusion matrix array\n",
    "    :param class_names: List of class names for the axes\n",
    "    :param title: Title for the graph\n",
    "    :param cmap: Color map of the heatmap\n",
    "    \"\"\"\n",
    "    # Normalize the confusion matrix\n",
    "    cm_normalized = cm.astype('float') / cm.sum(axis=1)[:, np.newaxis]\n",
    "    class_names = ['English', 'French', 'German', 'Python']\n",
    "    plt.figure(figsize=(10, 8))\n",
    "    print(class_names)\n",
    "    sns.heatmap(cm_normalized, annot=True, fmt='.4f', cmap=cmap, xticklabels=class_names, yticklabels=class_names, annot_kws={\"size\": 12})\n",
    "    plt.title(title)\n",
    "    plt.ylabel('True label', fontsize=14)\n",
    "    plt.xlabel('Predicted label', fontsize=14)\n",
    "    plt.savefig('Router_confMat.pdf', format='pdf', dpi=300)\n",
    "    plt.show()\n"
   ]
  },
  {
   "cell_type": "code",
   "execution_count": 46,
   "id": "3b8fd025-6ded-4379-9e60-45445384df90",
   "metadata": {},
   "outputs": [
    {
     "name": "stdout",
     "output_type": "stream",
     "text": [
      "['English', 'French', 'German', 'Python']\n"
     ]
    },
    {
     "data": {
      "image/png": "[encoded data removed]",
      "text/plain": [
       "<Figure size 1000x800 with 2 Axes>"
      ]
     },
     "metadata": {},
     "output_type": "display_data"
    }
   ],
   "source": [
    "# Assuming conf_matrix is already computed as shown previously\n",
    "# code2lang2 = {0: 'English', 1: 'French', 2: 'German', 3: 'Python'}\n",
    "class_names = [lang for lang, code in sorted(lang2code.items(), key=lambda item: item[1])]\n",
    "\n",
    "# Plot the confusion matrix\n",
    "plot_confusion_matrix(conf_matrix, class_names, title='')\n"
   ]
  },
  {
   "cell_type": "code",
   "execution_count": null,
   "id": "72125242-8d8a-441a-86d7-8c3efddcd4d0",
   "metadata": {},
   "outputs": [],
   "source": []
  },
  {
   "cell_type": "code",
   "execution_count": 16,
   "id": "9d09657c-a46f-4942-9851-b2a6cf2f1466",
   "metadata": {},
   "outputs": [],
   "source": [
    "# Extract the components from the pipeline\n",
    "tfidf_vectorizer = pipeline.named_steps['tfidf']\n",
    "classifier = pipeline.named_steps['clf']\n",
    "\n",
    "# Get the feature names (these are the token IDs as strings)\n",
    "feature_names = tfidf_vectorizer.get_feature_names_out()\n",
    "\n",
    "# Get the coefficients from the classifier\n",
    "if hasattr(classifier, 'coef_'):\n",
    "    coef = classifier.coef_\n",
    "elif hasattr(classifier, 'feature_importances_'):\n",
    "    coef = classifier.feature_importances_\n",
    "\n",
    "# Get the class labels\n",
    "class_labels = classifier.classes_"
   ]
  },
  {
   "cell_type": "code",
   "execution_count": null,
   "id": "eb7f099f-cff7-4487-b862-4759849b1a3e",
   "metadata": {
    "scrolled": true
   },
   "outputs": [],
   "source": [
    "# Decode the top 10 features per class\n",
    "top_features_per_class = {}\n",
    "code2lang = {0: 'English', 1: 'French', 2: 'German', 3: 'Python'}\n",
    "for class_index, class_label in enumerate(class_labels):\n",
    "    if len(class_labels) > 1:  # For multi-class classifiers\n",
    "        top_feature_indices = np.argsort(coef[class_index])[-20:]\n",
    "    else:  # For binary classifiers\n",
    "        top_feature_indices = np.argsort(coef)[-20:]\n",
    "    \n",
    "    top_features = [feature_names[i] for i in top_feature_indices]\n",
    "    top_features_decoded = [tokenizer.decode([int(token_id)]) for token_id in top_features]\n",
    "    \n",
    "    top_features_per_class[class_label] = top_features_decoded\n",
    "\n",
    "# Display the top features per class\n",
    "for class_label, top_features in top_features_per_class.items():\n",
    "    print(f\"Top 10 features for class {code2lang[class_label]}:\")\n",
    "    for feature in top_features:\n",
    "        print(feature)\n",
    "    print(\"\\n\")"
   ]
  }
 ],
 "metadata": {
  "kernelspec": {
   "display_name": "Python 3 (ipykernel)",
   "language": "python",
   "name": "python3"
  },
  "language_info": {
   "codemirror_mode": {
    "name": "ipython",
    "version": 3
   },
   "file_extension": ".py",
   "mimetype": "text/x-python",
   "name": "python",
   "nbconvert_exporter": "python",
   "pygments_lexer": "ipython3",
   "version": "3.8.18"
  }
 },
 "nbformat": 4,
 "nbformat_minor": 5
}
